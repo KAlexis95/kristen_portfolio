{
 "cells": [
  {
   "cell_type": "markdown",
   "id": "83d7d28c-dd0c-477f-b518-f30bee26eb40",
   "metadata": {},
   "source": [
    "# BMI Calculator"
   ]
  },
  {
   "cell_type": "code",
   "execution_count": null,
   "id": "a93d4170-3a0f-4208-b69b-b75214c1ff4d",
   "metadata": {},
   "outputs": [],
   "source": [
    "name = input(\"Enter your name\")\n",
    "\n",
    "weight = int(input(\"Enter your weight in pounds: \"))\n",
    "\n",
    "height = int(input(\"Enter your height in inches: \"))\n",
    "\n",
    "BMI = (weight * 703) / (height * height)\n",
    "\n",
    "if BMI>0:\n",
    "    if(BMI < 18.5):\n",
    "        print(name +\", you are underweight\")\n",
    "    elif (BMI<=24.9):\n",
    "        print(name +\", you are normal weight\")\n",
    "    elif (BMI<=29.9):\n",
    "        print(name +\", you are overweight\")\n",
    "    elif (BMI<=34.9):\n",
    "        print(name +\", you are obese\")\n",
    "    elif (BMI<=29.9):\n",
    "        print(name +\", you are severly obese\")\n",
    "    else:\n",
    "        print(name +\", you are morbidly obese\")\n",
    "\n",
    "else:\n",
    "    print(\"Enter Valid Input\")"
   ]
  },
  {
   "cell_type": "code",
   "execution_count": null,
   "id": "068fecce-10c9-40eb-9e73-c01370db4d8d",
   "metadata": {},
   "outputs": [],
   "source": []
  },
  {
   "cell_type": "code",
   "execution_count": null,
   "id": "37171cb2-07d6-4d4c-9e8c-64ff2d4f6884",
   "metadata": {},
   "outputs": [],
   "source": []
  },
  {
   "cell_type": "code",
   "execution_count": null,
   "id": "5d1d1a8f-7fb3-465c-aea7-4564f3d265ef",
   "metadata": {},
   "outputs": [],
   "source": []
  },
  {
   "cell_type": "code",
   "execution_count": null,
   "id": "6f829883-a944-41c5-be94-a9024a34cd81",
   "metadata": {},
   "outputs": [],
   "source": []
  },
  {
   "cell_type": "code",
   "execution_count": null,
   "id": "b5920c87-38cf-478b-8579-9b0c4349661c",
   "metadata": {},
   "outputs": [],
   "source": []
  },
  {
   "cell_type": "code",
   "execution_count": null,
   "id": "df1e4c06-198b-45dc-8ce2-9b28bc1020ad",
   "metadata": {},
   "outputs": [],
   "source": []
  }
 ],
 "metadata": {
  "kernelspec": {
   "display_name": "Python 3 (ipykernel)",
   "language": "python",
   "name": "python3"
  },
  "language_info": {
   "codemirror_mode": {
    "name": "ipython",
    "version": 3
   },
   "file_extension": ".py",
   "mimetype": "text/x-python",
   "name": "python",
   "nbconvert_exporter": "python",
   "pygments_lexer": "ipython3",
   "version": "3.12.4"
  }
 },
 "nbformat": 4,
 "nbformat_minor": 5
}
